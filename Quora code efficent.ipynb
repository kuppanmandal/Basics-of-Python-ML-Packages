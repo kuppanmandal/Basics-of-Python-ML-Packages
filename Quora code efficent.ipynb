{
 "cells": [
  {
   "cell_type": "code",
   "execution_count": 1,
   "metadata": {},
   "outputs": [],
   "source": [
    "import warnings\n",
    "warnings.filterwarnings(\"ignore\")"
   ]
  },
  {
   "cell_type": "code",
   "execution_count": 2,
   "metadata": {},
   "outputs": [
    {
     "name": "stdout",
     "output_type": "stream",
     "text": [
      "Built-in function : 0.0004441999999995616\n"
     ]
    }
   ],
   "source": [
    "import time as t\n",
    "import math as m\n",
    "start = t.clock()\n",
    "m.factorial(1000)\n",
    "end = t.clock()\n",
    "print(\"Built-in function :\", end - start)"
   ]
  },
  {
   "cell_type": "code",
   "execution_count": 3,
   "metadata": {},
   "outputs": [
    {
     "name": "stdout",
     "output_type": "stream",
     "text": [
      "Anonymous function : 0.0019521999999998485\n"
     ]
    }
   ],
   "source": [
    "import time as t\n",
    "facto = lambda x: 1 if x == 0 else x * facto(x-1)\n",
    "start = t.clock()\n",
    "facto(1000)\n",
    "end = t.clock()\n",
    "print(\"Anonymous function :\", end - start)"
   ]
  },
  {
   "cell_type": "code",
   "execution_count": 4,
   "metadata": {},
   "outputs": [
    {
     "name": "stdout",
     "output_type": "stream",
     "text": [
      "Recursion function : 0.0008821000000001078\n"
     ]
    }
   ],
   "source": [
    "import time as t\n",
    "def fact(n):\n",
    "    if n >= 1:\n",
    "        return n * fact(n-1)\n",
    "    else:\n",
    "        return 1\n",
    "start = t.clock()\n",
    "fact(1000)\n",
    "end = t.clock()\n",
    "print(\"Recursion function :\", end - start)"
   ]
  },
  {
   "cell_type": "code",
   "execution_count": 5,
   "metadata": {},
   "outputs": [
    {
     "name": "stdout",
     "output_type": "stream",
     "text": [
      "Looping function : 0.01030050000000049\n"
     ]
    }
   ],
   "source": [
    "import time as t\n",
    "r=1\n",
    "n=5000\n",
    "start = t.clock()\n",
    "for i in range(1,n+1):\n",
    "    r*=i\n",
    "end = t.clock()\n",
    "print(\"Looping function :\", end - start)"
   ]
  }
 ],
 "metadata": {
  "kernelspec": {
   "display_name": "Python 3",
   "language": "python",
   "name": "python3"
  },
  "language_info": {
   "codemirror_mode": {
    "name": "ipython",
    "version": 3
   },
   "file_extension": ".py",
   "mimetype": "text/x-python",
   "name": "python",
   "nbconvert_exporter": "python",
   "pygments_lexer": "ipython3",
   "version": "3.7.3"
  }
 },
 "nbformat": 4,
 "nbformat_minor": 2
}
